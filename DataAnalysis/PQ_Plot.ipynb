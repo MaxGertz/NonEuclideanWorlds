{
 "cells": [
  {
   "cell_type": "code",
   "execution_count": 1,
   "metadata": {},
   "outputs": [],
   "source": [
    "import matplotlib.pyplot as plt\n",
    "import numpy as np\n",
    "import pandas as pd"
   ]
  },
  {
   "cell_type": "code",
   "execution_count": 30,
   "metadata": {},
   "outputs": [],
   "source": [
    "VR_Realism = [29,38,35,40,43,43,37,33,36,24,34,40]\n",
    "VR_PossibilityAct = [22,25,28,26,27,25,24,22,22,22,22,26]\n",
    "VR_QualityInterface = [15,14,20,10,18,6,17,20,9,21,21,16]\n",
    "VR_PossibilityExamine = [16,18,20,17,20,21,17,15,18,18,17,19]\n",
    "VR_Selfevaluation = [10,12,8,12,13,13,13,14,11,14,11,12]"
   ]
  },
  {
   "cell_type": "code",
   "execution_count": 31,
   "metadata": {},
   "outputs": [],
   "source": [
    "SDE_Realism = [22,33,21,40,16,31,23,31,30,16,30,20]\n",
    "SDE_PossibilityAct = [25,22,14,26,19,24,13,22,23,19,25,15]\n",
    "SDE_QualityInterface = [14,20,15,16,11,18,16,9,11,19,16,15]\n",
    "SDE_PossibilityExamine = [13,17,17,17,7,16,15,18,19,14,13,15]\n",
    "SDE_Selfevaluation = [9,10,4,9,9,12,12,9,13,10,14,14]"
   ]
  },
  {
   "cell_type": "code",
   "execution_count": 32,
   "metadata": {},
   "outputs": [],
   "source": [
    "VR = []\n",
    "VR.append(VR_Realism)\n",
    "VR.append(VR_PossibilityAct)\n",
    "VR.append(VR_QualityInterface)\n",
    "VR.append(VR_PossibilityExamine)\n",
    "VR.append(VR_Selfevaluation)"
   ]
  },
  {
   "cell_type": "code",
   "execution_count": 33,
   "metadata": {},
   "outputs": [],
   "source": [
    "SDE = []\n",
    "SDE.append(SDE_Realism)\n",
    "SDE.append(SDE_PossibilityAct)\n",
    "SDE.append(SDE_QualityInterface)\n",
    "SDE.append(SDE_PossibilityExamine)\n",
    "SDE.append(SDE_Selfevaluation)"
   ]
  },
  {
   "cell_type": "code",
   "execution_count": 34,
   "metadata": {},
   "outputs": [],
   "source": [
    "ticks = [\"Realism\",\n",
    "        \"Possibility to \\n Act\",\n",
    "        \"Quality of \\n Interface\",\n",
    "        \"Possibility to \\n Examine\",\n",
    "        \"Self-evaluation of \\n Performance\"]\n",
    "\n",
    "c_VR = 'blue'\n",
    "c_SDE = 'green'"
   ]
  },
  {
   "cell_type": "code",
   "execution_count": 36,
   "metadata": {
    "scrolled": true
   },
   "outputs": [
    {
     "data": {
      "image/png": "[encoded data removed]",
      "text/plain": [
       "<Figure size 648x504 with 1 Axes>"
      ]
     },
     "metadata": {
      "needs_background": "light"
     },
     "output_type": "display_data"
    }
   ],
   "source": [
    "plt.figure(1, figsize=(9,7))\n",
    "\n",
    "bp_VR = plt.boxplot(VR, positions=np.array(range(len(VR)))*2.0-0.4,sym='',widths=0.6)\n",
    "bp_SDE = plt.boxplot(SDE, positions=np.array(range(len(SDE)))*2.0+0.4, sym='', widths=0.6)\n",
    "\n",
    "# set colors\n",
    "plt.setp(bp_VR['boxes'], color=c_VR)\n",
    "plt.setp(bp_VR['whiskers'], color=c_VR)\n",
    "plt.setp(bp_VR['caps'], color=c_VR)\n",
    "plt.setp(bp_VR['medians'], color=c_VR)\n",
    "\n",
    "plt.setp(bp_SDE['boxes'], color=c_SDE)\n",
    "plt.setp(bp_SDE['whiskers'], color=c_SDE)\n",
    "plt.setp(bp_SDE['caps'], color=c_SDE)\n",
    "plt.setp(bp_SDE['medians'], color=c_SDE)\n",
    "\n",
    "\n",
    "# draw temporary blue and green lines and use them to create a legend\n",
    "plt.plot([], c=c_VR, label='VR')\n",
    "plt.plot([], c=c_SDE, label='SDE')\n",
    "plt.legend()\n",
    "\n",
    "plt.xticks(range(0,len(ticks)*2,2),ticks, rotation=0)\n",
    "plt.xlim(-2, len(ticks)*2)\n",
    "plt.tight_layout\n",
    "\n",
    "# set labels\n",
    "plt.xlabel(\"Presence Factors\", labelpad=20)\n",
    "plt.ylabel(\"Presence Score\", labelpad=20)\n",
    "\n",
    "plt.draw()\n",
    "\n",
    "# save & show\n",
    "plt.savefig('Figures/presenceCompare.png', dpi=600)\n",
    "plt.show()\n"
   ]
  }
 ],
 "metadata": {
  "kernelspec": {
   "display_name": "Python 3",
   "language": "python",
   "name": "python3"
  },
  "language_info": {
   "codemirror_mode": {
    "name": "ipython",
    "version": 3
   },
   "file_extension": ".py",
   "mimetype": "text/x-python",
   "name": "python",
   "nbconvert_exporter": "python",
   "pygments_lexer": "ipython3",
   "version": "3.7.3"
  }
 },
 "nbformat": 4,
 "nbformat_minor": 2
}
