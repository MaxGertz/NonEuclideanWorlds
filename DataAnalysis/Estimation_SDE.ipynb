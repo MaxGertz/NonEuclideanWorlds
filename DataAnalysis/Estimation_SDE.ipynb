{
 "cells": [
  {
   "cell_type": "code",
   "execution_count": 7,
   "metadata": {},
   "outputs": [],
   "source": [
    "import matplotlib.pyplot as plt\n",
    "import numpy as np"
   ]
  },
  {
   "cell_type": "code",
   "execution_count": 8,
   "metadata": {},
   "outputs": [],
   "source": [
    "# data to plot\n",
    "estimatedMeters_SDE = [300,80,25,50,300,40,200,50,40,300,50,100]\n",
    "\n",
    "# deleting double entries\n",
    "unique_SDE = []\n",
    "for e in estimatedMeters_SDE:\n",
    "    if e not in unique_SDE:\n",
    "        unique_SDE.append(e)\n",
    "# sort list\n",
    "unique_SDE.sort()"
   ]
  },
  {
   "cell_type": "code",
   "execution_count": 9,
   "metadata": {},
   "outputs": [],
   "source": [
    "# quantity of estimations\n",
    "quantity_SDE = []\n",
    "for e in unique_SDE:\n",
    "    q = estimatedMeters_SDE.count(e)\n",
    "    quantity_SDE.append(q)"
   ]
  },
  {
   "cell_type": "code",
   "execution_count": 10,
   "metadata": {},
   "outputs": [],
   "source": [
    "estimated_Rounds = [12,5,7,5,6,8,5,10,10,12,9,7]"
   ]
  },
  {
   "cell_type": "code",
   "execution_count": 11,
   "metadata": {},
   "outputs": [],
   "source": [
    "# deleting double entries\n",
    "unique_Rounds= []\n",
    "for e in estimated_Rounds:\n",
    "    if e not in unique_Rounds:\n",
    "        unique_Rounds.append(e)\n",
    "# sort list\n",
    "unique_Rounds.sort()"
   ]
  },
  {
   "cell_type": "code",
   "execution_count": 12,
   "metadata": {},
   "outputs": [],
   "source": [
    "# quantity of estimations\n",
    "quantity_Rounds = []\n",
    "for e in unique_Rounds:\n",
    "    q = estimated_Rounds.count(e)\n",
    "    quantity_Rounds.append(q)"
   ]
  },
  {
   "cell_type": "code",
   "execution_count": 13,
   "metadata": {
    "scrolled": true
   },
   "outputs": [
    {
     "data": {
      "image/png": "[encoded data removed]",
      "text/plain": [
       "<Figure size 720x576 with 2 Axes>"
      ]
     },
     "metadata": {
      "needs_background": "light"
     },
     "output_type": "display_data"
    }
   ],
   "source": [
    "fig = plt.figure(1, figsize=(10,8))\n",
    "ax1 = plt.subplot(2,1,1)\n",
    "y_pos= np.arange(len(unique_SDE))\n",
    "\n",
    "plt.bar(y_pos, quantity_SDE, align='center')\n",
    "plt.xticks(y_pos, unique_SDE)\n",
    "plt.yticks(np.arange(0,5,1))\n",
    "\n",
    "plt.xlabel(\"Estimations in Meters\")\n",
    "plt.ylabel(\"Number of Mentions\")\n",
    "\n",
    "plt.subplot(212)\n",
    "y_pos = np.arange(len(unique_Rounds))\n",
    "\n",
    "plt.bar(y_pos, quantity_Rounds, align='center')\n",
    "plt.xticks(y_pos, unique_Rounds)\n",
    "plt.yticks(np.arange(0,5,1))\n",
    "\n",
    "plt.xlabel(\"Estimation of Rounds\")\n",
    "plt.ylabel(\"Number of Mentions\")\n",
    "\n",
    "fig.savefig(\"Figures/Estimations_SDE.png\", dpi=900)"
   ]
  },
  {
   "cell_type": "code",
   "execution_count": null,
   "metadata": {},
   "outputs": [],
   "source": [
    "\n"
   ]
  }
 ],
 "metadata": {
  "kernelspec": {
   "display_name": "Python 3",
   "language": "python",
   "name": "python3"
  },
  "language_info": {
   "codemirror_mode": {
    "name": "ipython",
    "version": 3
   },
   "file_extension": ".py",
   "mimetype": "text/x-python",
   "name": "python",
   "nbconvert_exporter": "python",
   "pygments_lexer": "ipython3",
   "version": "3.7.3"
  }
 },
 "nbformat": 4,
 "nbformat_minor": 2
}
