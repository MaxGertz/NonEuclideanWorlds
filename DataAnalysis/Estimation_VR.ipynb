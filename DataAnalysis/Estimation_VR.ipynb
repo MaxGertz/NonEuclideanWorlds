{
 "cells": [
  {
   "cell_type": "code",
   "execution_count": 163,
   "metadata": {},
   "outputs": [],
   "source": [
    "import matplotlib.pyplot as plt\n",
    "import numpy as np"
   ]
  },
  {
   "cell_type": "code",
   "execution_count": 164,
   "metadata": {},
   "outputs": [],
   "source": [
    "# data to plot\n",
    "estimatedMeters_VR = [100,60,64,50,50,200,50,50,90,35,40,100]\n",
    "\n",
    "# deleting double entries\n",
    "unique_VR = []\n",
    "for e in estimatedMeters_VR:\n",
    "    if e not in unique_VR:\n",
    "        unique_VR.append(e)\n",
    "# sort list\n",
    "unique_VR.sort()"
   ]
  },
  {
   "cell_type": "code",
   "execution_count": 165,
   "metadata": {},
   "outputs": [],
   "source": [
    "# quantity of estimations\n",
    "quantity_VR = []\n",
    "for e in unique_VR:\n",
    "    q = estimatedMeters_VR.count(e)\n",
    "    quantity_VR.append(q)"
   ]
  },
  {
   "cell_type": "code",
   "execution_count": 166,
   "metadata": {},
   "outputs": [],
   "source": [
    "estimated_Rounds = [8,9,8,8,4,6,5,13,12,10,12,6]"
   ]
  },
  {
   "cell_type": "code",
   "execution_count": 167,
   "metadata": {},
   "outputs": [],
   "source": [
    "# deleting double entries\n",
    "unique_Rounds= []\n",
    "for e in estimated_Rounds:\n",
    "    if e not in unique_Rounds:\n",
    "        unique_Rounds.append(e)\n",
    "# sort list\n",
    "unique_Rounds.sort()"
   ]
  },
  {
   "cell_type": "code",
   "execution_count": 168,
   "metadata": {},
   "outputs": [],
   "source": [
    "# quantity of estimations\n",
    "quantity_Rounds = []\n",
    "for e in unique_Rounds:\n",
    "    q = estimated_Rounds.count(e)\n",
    "    quantity_Rounds.append(q)"
   ]
  },
  {
   "cell_type": "code",
   "execution_count": 169,
   "metadata": {
    "scrolled": true
   },
   "outputs": [
    {
     "data": {
      "image/png": "[encoded data removed]",
      "text/plain": [
       "<Figure size 720x576 with 2 Axes>"
      ]
     },
     "metadata": {
      "needs_background": "light"
     },
     "output_type": "display_data"
    }
   ],
   "source": [
    "fig = plt.figure(1, figsize=(10,8))\n",
    "ax1 = plt.subplot(2,1,1)\n",
    "y_pos= np.arange(len(unique_VR))\n",
    "\n",
    "plt.bar(y_pos, quantity_VR, align='center')\n",
    "plt.xticks(y_pos, unique_VR)\n",
    "plt.yticks(np.arange(0,5,1))\n",
    "\n",
    "plt.xlabel(\"Estimations in Meters\")\n",
    "plt.ylabel(\"Number of Mentions\")\n",
    "\n",
    "plt.subplot(212)\n",
    "y_pos = np.arange(len(unique_Rounds))\n",
    "\n",
    "plt.bar(y_pos, quantity_Rounds, align='center')\n",
    "plt.xticks(y_pos, unique_Rounds)\n",
    "plt.yticks(np.arange(0,5,1))\n",
    "\n",
    "plt.xlabel(\"Estimation of Rounds\")\n",
    "plt.ylabel(\"Number of Mentions\")\n",
    "\n",
    "fig.savefig(\"Figures/Estimations_VR.png\", dpi=900)"
   ]
  },
  {
   "cell_type": "code",
   "execution_count": null,
   "metadata": {},
   "outputs": [],
   "source": [
    "\n"
   ]
  }
 ],
 "metadata": {
  "kernelspec": {
   "display_name": "Python 3",
   "language": "python",
   "name": "python3"
  },
  "language_info": {
   "codemirror_mode": {
    "name": "ipython",
    "version": 3
   },
   "file_extension": ".py",
   "mimetype": "text/x-python",
   "name": "python",
   "nbconvert_exporter": "python",
   "pygments_lexer": "ipython3",
   "version": "3.7.3"
  }
 },
 "nbformat": 4,
 "nbformat_minor": 2
}
